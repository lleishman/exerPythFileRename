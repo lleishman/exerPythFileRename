{
 "cells": [
  {
   "cell_type": "markdown",
   "id": "b855d247",
   "metadata": {
    "deletable": false,
    "editable": false,
    "nbgrader": {
     "cell_type": "markdown",
     "checksum": "3eec0a079fe8c181acee57720e3f7f00",
     "grade": false,
     "grade_id": "cell-bbdd1e6501687805",
     "locked": true,
     "schema_version": 3,
     "solution": false,
     "task": false
    }
   },
   "source": [
    "# Python Automate Parsing and Renaming Multiple Files"
   ]
  },
  {
   "cell_type": "markdown",
   "id": "ce5ba134",
   "metadata": {
    "deletable": false,
    "editable": false,
    "nbgrader": {
     "cell_type": "markdown",
     "checksum": "73bbc12b35df4790d422f8b6da0b33f5",
     "grade": false,
     "grade_id": "cell-aab82be80eea3871",
     "locked": true,
     "schema_version": 3,
     "solution": false,
     "task": false
    }
   },
   "source": [
    "### Instructions\n",
    "\n",
    "* Watch the video tutorial about the os module at https://www.youtube.com/watch?v=ve2pmm5JqmI&list=PLG9A6ovzPqX6d9uWzx0UYN9pm0zzl5ofA&index=26 \n",
    "* Complete the programming exercises below as you go through the tutorial.\n",
    "* Delete or comment out the line of code in each cell which says `raise NotImplementedError()` and replace it with your own.\n",
    "\n",
    "### Exercises"
   ]
  },
  {
   "cell_type": "markdown",
   "id": "772376c6",
   "metadata": {
    "deletable": false,
    "editable": false,
    "nbgrader": {
     "cell_type": "markdown",
     "checksum": "4d9f04832746dad7200f12377fcd530a",
     "grade": false,
     "grade_id": "cell-eabeebb533d1e3cb",
     "locked": true,
     "schema_version": 3,
     "solution": false,
     "task": false
    }
   },
   "source": [
    "Write code in the cell below.\n",
    "\n",
    "* Import the os module."
   ]
  },
  {
   "cell_type": "code",
   "execution_count": 1,
   "id": "40b6f892",
   "metadata": {
    "deletable": false,
    "nbgrader": {
     "cell_type": "code",
     "checksum": "b77373ae7f6094c514e8a74c6322ab3a",
     "grade": true,
     "grade_id": "cell-818e7c329ddd3361",
     "locked": false,
     "points": 1,
     "schema_version": 3,
     "solution": true,
     "task": false
    }
   },
   "outputs": [],
   "source": [
    "\n",
    "# YOUR CODE HERE\n",
    "import os\n"
   ]
  },
  {
   "cell_type": "markdown",
   "id": "a23fabd5",
   "metadata": {
    "deletable": false,
    "editable": false,
    "nbgrader": {
     "cell_type": "markdown",
     "checksum": "758c9db29b9dab434f4aa1b724b98f1c",
     "grade": false,
     "grade_id": "cell-7ddfa4831d3c6c86",
     "locked": true,
     "schema_version": 3,
     "solution": false,
     "task": false
    }
   },
   "source": [
    "Write code in the cell below.\n",
    "\n",
    "* Change the directory to where you files are located.\n",
    "* Print the current working directory to make sure it changed to the right directory."
   ]
  },
  {
   "cell_type": "code",
   "execution_count": 4,
   "id": "8e6e0fd5",
   "metadata": {
    "deletable": false,
    "nbgrader": {
     "cell_type": "code",
     "checksum": "4d59faf4d34692d91df442c9214579e7",
     "grade": true,
     "grade_id": "cell-7d0d4d334c6e8e9c",
     "locked": false,
     "points": 1,
     "schema_version": 3,
     "solution": true,
     "task": false
    }
   },
   "outputs": [
    {
     "ename": "FileNotFoundError",
     "evalue": "[WinError 3] The system cannot find the path specified: 'C:/Users/lana/OneDrive'",
     "output_type": "error",
     "traceback": [
      "\u001b[1;31m---------------------------------------------------------------------------\u001b[0m",
      "\u001b[1;31mFileNotFoundError\u001b[0m                         Traceback (most recent call last)",
      "\u001b[1;32mc:\\Users\\lanal\\Downloads\\exerPythFileRename-master\\exerPythFileRename\\Python_RenameFiles.ipynb Cell 6\u001b[0m in \u001b[0;36m<cell line: 3>\u001b[1;34m()\u001b[0m\n\u001b[0;32m      <a href='vscode-notebook-cell:/c%3A/Users/lanal/Downloads/exerPythFileRename-master/exerPythFileRename/Python_RenameFiles.ipynb#W5sZmlsZQ%3D%3D?line=0'>1</a>\u001b[0m \u001b[39m# YOUR CODE HERE\u001b[39;00m\n\u001b[1;32m----> <a href='vscode-notebook-cell:/c%3A/Users/lanal/Downloads/exerPythFileRename-master/exerPythFileRename/Python_RenameFiles.ipynb#W5sZmlsZQ%3D%3D?line=2'>3</a>\u001b[0m os\u001b[39m.\u001b[39;49mchdir(\u001b[39m\"\u001b[39;49m\u001b[39mC:/Users/lana/OneDrive\u001b[39;49m\u001b[39m\"\u001b[39;49m)\n",
      "\u001b[1;31mFileNotFoundError\u001b[0m: [WinError 3] The system cannot find the path specified: 'C:/Users/lana/OneDrive'"
     ]
    }
   ],
   "source": [
    "\n",
    "# YOUR CODE HERE\n",
    "\n",
    "os.chdir("
   ]
  },
  {
   "cell_type": "markdown",
   "id": "4bfedeaf",
   "metadata": {
    "deletable": false,
    "editable": false,
    "nbgrader": {
     "cell_type": "markdown",
     "checksum": "00c2ed2cfe9ca8a34d7c1196afa48ed0",
     "grade": false,
     "grade_id": "cell-7e778deb040a948f",
     "locked": true,
     "schema_version": 3,
     "solution": false,
     "task": false
    }
   },
   "source": [
    "Write code in the cell below.\n",
    "\n",
    "* Print all the files in the directory.\n",
    "* Print the file names split from their extensions."
   ]
  },
  {
   "cell_type": "code",
   "execution_count": null,
   "id": "05a46979",
   "metadata": {
    "deletable": false,
    "nbgrader": {
     "cell_type": "code",
     "checksum": "6a99d7a5f45c439162300294338b2fd2",
     "grade": true,
     "grade_id": "cell-886a46337e41e3dc",
     "locked": false,
     "points": 1,
     "schema_version": 3,
     "solution": true,
     "task": false
    }
   },
   "outputs": [],
   "source": [
    "\n",
    "# YOUR CODE HERE\n",
    "raise NotImplementedError()"
   ]
  },
  {
   "cell_type": "markdown",
   "id": "ea740f4f",
   "metadata": {
    "deletable": false,
    "editable": false,
    "nbgrader": {
     "cell_type": "markdown",
     "checksum": "97f5a469dd15198a04c0d6176e90a49b",
     "grade": false,
     "grade_id": "cell-cfaf1995327f55d1",
     "locked": true,
     "schema_version": 3,
     "solution": false,
     "task": false
    }
   },
   "source": [
    "Write code in the cell below.\n",
    "\n",
    "* Assign the file names to a variable named `file_name`.\n",
    "* Assign the file extensions to a variable named `file_ext`.\n",
    "* Using the `file_name` variable, split the names on the hyphen `-`. Assign the first section to a variable called `f_title`, the second section to a variable called `f_course`, and the third section to a variable called `f_num`.\n",
    "* Print a formatted string using the format `'{}-{}-{}{}'.format(f_num, f_course, f_title, f_ext)`. (The presenter updated the variable `file_name` to `f_name` and `file_ext` to `f_ext`.)"
   ]
  },
  {
   "cell_type": "code",
   "execution_count": null,
   "id": "a8a92f81",
   "metadata": {
    "deletable": false,
    "nbgrader": {
     "cell_type": "code",
     "checksum": "5b3fa8e1f60cdc9734a0657d10e8bc05",
     "grade": true,
     "grade_id": "cell-55f1f35ba0fc861c",
     "locked": false,
     "points": 3,
     "schema_version": 3,
     "solution": true,
     "task": false
    }
   },
   "outputs": [],
   "source": [
    "\n",
    "# YOUR CODE HERE\n",
    "raise NotImplementedError()"
   ]
  },
  {
   "cell_type": "markdown",
   "id": "a8195f5c",
   "metadata": {
    "deletable": false,
    "editable": false,
    "nbgrader": {
     "cell_type": "markdown",
     "checksum": "9e6b5c4366042498d8194455ea1eba4f",
     "grade": false,
     "grade_id": "cell-150f0ddcc8127dc8",
     "locked": true,
     "schema_version": 3,
     "solution": false,
     "task": false
    }
   },
   "source": [
    "Write code in the cell below.\n",
    "\n",
    "* Strip white space from the `f_title`, `f_course`, and `f_num` variables.\n",
    "* Remove the # sign from the beginning.\n",
    "* Add 0 to the front of the single digits.\n",
    "* Remove the course name from the file titles."
   ]
  },
  {
   "cell_type": "code",
   "execution_count": null,
   "id": "6f6bf0b9",
   "metadata": {
    "deletable": false,
    "nbgrader": {
     "cell_type": "code",
     "checksum": "341c11971be7bad00f19caa190b237ae",
     "grade": true,
     "grade_id": "cell-92a17579c0833b85",
     "locked": false,
     "points": 5,
     "schema_version": 3,
     "solution": true,
     "task": false
    }
   },
   "outputs": [],
   "source": [
    "for f in os.listdir():\n",
    "    f_name, f_ext = os.path.splitext(f)\n",
    "    f_title, f_course, f_num = f_name.split('-')\n",
    "    print('{}-{}-{}{}'.format(f_num, f_course, f_title, f_ext))\n",
    "\n",
    "# YOUR CODE HERE\n",
    "raise NotImplementedError()"
   ]
  },
  {
   "cell_type": "markdown",
   "id": "7627a23f",
   "metadata": {
    "deletable": false,
    "editable": false,
    "nbgrader": {
     "cell_type": "markdown",
     "checksum": "a591b5db8bc82519a7cacd3320b571bb",
     "grade": false,
     "grade_id": "cell-48f78ef178de58d7",
     "locked": true,
     "schema_version": 3,
     "solution": false,
     "task": false
    }
   },
   "source": [
    "Write code in the cell below.\n",
    "\n",
    "* Copy your code from the previous cell.\n",
    "* Change the print statement to a new variable called `new_name` which uses the format `'{}-{}{}'.format(f_num, f_title, f_ext)`."
   ]
  },
  {
   "cell_type": "code",
   "execution_count": null,
   "id": "128f2a82",
   "metadata": {
    "deletable": false,
    "nbgrader": {
     "cell_type": "code",
     "checksum": "f12f99bdbeb302e70cc294599006c340",
     "grade": true,
     "grade_id": "cell-7b69cabad92b2a69",
     "locked": false,
     "points": 2,
     "schema_version": 3,
     "solution": true,
     "task": false
    }
   },
   "outputs": [],
   "source": [
    "\n",
    "# YOUR CODE HERE\n",
    "raise NotImplementedError()"
   ]
  },
  {
   "cell_type": "markdown",
   "id": "91c032d5",
   "metadata": {
    "deletable": false,
    "editable": false,
    "nbgrader": {
     "cell_type": "markdown",
     "checksum": "861934438f8c68ae943fbc5137d7b92c",
     "grade": false,
     "grade_id": "cell-425153c9cfb7d0d5",
     "locked": true,
     "schema_version": 3,
     "solution": false,
     "task": false
    }
   },
   "source": [
    "Write code in the cell below.\n",
    "\n",
    "* What line of code does the presenter use to rename the files?"
   ]
  },
  {
   "cell_type": "code",
   "execution_count": null,
   "id": "49c851c0",
   "metadata": {
    "deletable": false,
    "nbgrader": {
     "cell_type": "code",
     "checksum": "ca4a3959d7b6853643569870cdd0486d",
     "grade": true,
     "grade_id": "cell-75440e8a8f398a02",
     "locked": false,
     "points": 1,
     "schema_version": 3,
     "solution": true,
     "task": false
    }
   },
   "outputs": [],
   "source": [
    "\n",
    "# YOUR CODE HERE\n",
    "raise NotImplementedError()"
   ]
  }
 ],
 "metadata": {
  "kernelspec": {
   "display_name": "Python 3.10.7 64-bit (microsoft store)",
   "language": "python",
   "name": "python3"
  },
  "language_info": {
   "codemirror_mode": {
    "name": "ipython",
    "version": 3
   },
   "file_extension": ".py",
   "mimetype": "text/x-python",
   "name": "python",
   "nbconvert_exporter": "python",
   "pygments_lexer": "ipython3",
   "version": "3.10.7"
  },
  "vscode": {
   "interpreter": {
    "hash": "c925e1babead3e697785a524fa00ac10fdf16d472758a4fa8b39811d5243721f"
   }
  }
 },
 "nbformat": 4,
 "nbformat_minor": 5
}
